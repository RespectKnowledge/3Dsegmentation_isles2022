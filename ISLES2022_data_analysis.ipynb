{
  "cells": [
    {
      "cell_type": "code",
      "execution_count": null,
      "metadata": {
        "id": "KH7MJqJ__lkO",
        "colab": {
          "base_uri": "https://localhost:8080/"
        },
        "outputId": "e5e5963a-6991-4a7e-f4d1-848cedae5d58"
      },
      "outputs": [
        {
          "output_type": "stream",
          "name": "stdout",
          "text": [
            "Mounted at /content/drive\n"
          ]
        }
      ],
      "source": [
        "from google.colab import drive\n",
        "drive.mount('/content/drive')"
      ]
    },
    {
      "cell_type": "code",
      "execution_count": null,
      "metadata": {
        "colab": {
          "base_uri": "https://localhost:8080/"
        },
        "id": "BUk0P8W0ADnG",
        "outputId": "7d42602a-a2eb-4680-b0f5-dcd848073813"
      },
      "outputs": [
        {
          "output_type": "stream",
          "name": "stdout",
          "text": [
            "/content/drive/MyDrive\n"
          ]
        }
      ],
      "source": [
        "cd /content/drive/MyDrive"
      ]
    },
    {
      "cell_type": "code",
      "execution_count": null,
      "metadata": {
        "colab": {
          "base_uri": "https://localhost:8080/"
        },
        "id": "PDBVWzmEAHAG",
        "outputId": "1fbd36e9-8209-4ae6-9271-d5df21717d3c"
      },
      "outputs": [
        {
          "output_type": "stream",
          "name": "stdout",
          "text": [
            "Looking in indexes: https://pypi.org/simple, https://us-python.pkg.dev/colab-wheels/public/simple/\n",
            "Collecting monai\n",
            "  Downloading monai-0.8.1-202202162213-py3-none-any.whl (721 kB)\n",
            "\u001b[K     |████████████████████████████████| 721 kB 4.8 MB/s \n",
            "\u001b[?25hRequirement already satisfied: numpy>=1.17 in /usr/local/lib/python3.7/dist-packages (from monai) (1.21.6)\n",
            "Requirement already satisfied: torch>=1.6 in /usr/local/lib/python3.7/dist-packages (from monai) (1.11.0+cu113)\n",
            "Requirement already satisfied: typing-extensions in /usr/local/lib/python3.7/dist-packages (from torch>=1.6->monai) (4.2.0)\n",
            "Installing collected packages: monai\n",
            "Successfully installed monai-0.8.1\n"
          ]
        }
      ],
      "source": [
        "!pip install monai"
      ]
    },
    {
      "cell_type": "code",
      "execution_count": null,
      "metadata": {
        "colab": {
          "base_uri": "https://localhost:8080/"
        },
        "id": "-oloxRpZAhHU",
        "outputId": "be0c2899-a377-400f-e8d8-79887e0c7ec4"
      },
      "outputs": [
        {
          "output_type": "stream",
          "name": "stdout",
          "text": [
            "Looking in indexes: https://pypi.org/simple, https://us-python.pkg.dev/colab-wheels/public/simple/\n",
            "Collecting SimpleITK\n",
            "  Downloading SimpleITK-2.1.1.2-cp37-cp37m-manylinux_2_12_x86_64.manylinux2010_x86_64.whl (48.4 MB)\n",
            "\u001b[K     |████████████████████████████████| 48.4 MB 79.9 MB/s \n",
            "\u001b[?25hInstalling collected packages: SimpleITK\n",
            "Successfully installed SimpleITK-2.1.1.2\n"
          ]
        }
      ],
      "source": [
        "!pip install SimpleITK"
      ]
    },
    {
      "cell_type": "code",
      "execution_count": null,
      "metadata": {
        "id": "ke8Tn2YvApkv"
      },
      "outputs": [],
      "source": [
        "import os\n",
        "os.environ[\"CUDA_VISIBLE_DEVICES\"] = \"0,1\" \n",
        "import os\n",
        "import shutil\n",
        "import tempfile\n",
        "import torch\n",
        "import matplotlib.pyplot as plt\n",
        "import numpy as np\n",
        "from tqdm import tqdm\n",
        "#os.environ[\"CUDA_DEVICE_ORDER\"] = \"PCI_BUS_ID\"\n",
        "device = torch.device(\"cuda\" if torch.cuda.is_available() else \"cpu\")\n",
        "torch.backends.cudnn.benchmark = True\n",
        "\n",
        "from monai.losses import DiceCELoss\n",
        "from monai.inferers import sliding_window_inference\n",
        "from monai.transforms import (\n",
        "    AsDiscrete,\n",
        "    AddChanneld,\n",
        "    Compose,\n",
        "    CropForegroundd,\n",
        "    LoadImaged,\n",
        "    Orientationd,\n",
        "    RandFlipd,\n",
        "    RandCropByPosNegLabeld,\n",
        "    RandShiftIntensityd,\n",
        "    ScaleIntensityRanged,\n",
        "    Spacingd,\n",
        "    RandRotate90d,\n",
        "    ToTensord,\n",
        ")\n",
        "\n",
        "from monai.config import print_config\n",
        "from monai.metrics import DiceMetric\n",
        "from monai.networks.nets import UNETR\n",
        "\n",
        "from monai.data import (\n",
        "    DataLoader,\n",
        "    CacheDataset,\n",
        "    load_decathlon_datalist,\n",
        "    decollate_batch,\n",
        ")\n",
        "\n",
        "### training and validation dataset\n",
        "#path_train_volumes\n",
        "###### create nnunet monaie for multiclass 3D segmentation problem\n",
        "import numpy as np\n",
        "from monai.transforms import (\n",
        "    Compose,\n",
        "    LoadImaged,\n",
        "    AddChanneld,\n",
        "    CropForegroundd,\n",
        "    Spacingd,\n",
        "    Orientationd,\n",
        "    SpatialPadd,\n",
        "    NormalizeIntensityd,\n",
        "    RandCropByPosNegLabeld,\n",
        "    RandRotated,\n",
        "    RandZoomd,\n",
        "    CastToTyped,\n",
        "    RandGaussianNoised,\n",
        "    RandGaussianSmoothd,\n",
        "    RandAdjustContrastd,\n",
        "    RandFlipd,\n",
        "    ToTensord,\n",
        "    Resized,RandShiftIntensityd,SpatialPadd\n",
        ")\n",
        "from monai.utils import first\n",
        "\n",
        "### tranform the images\n",
        "import os\n",
        "from glob import glob\n",
        "import shutil\n",
        "from tqdm import tqdm\n",
        "#import dicom2nifti\n",
        "import numpy as np\n",
        "import nibabel as nib\n",
        "from monai.transforms import(\n",
        "    Compose,\n",
        "    AddChanneld,\n",
        "    LoadImaged,\n",
        "    Resized,\n",
        "    ToTensord,\n",
        "    Spacingd,\n",
        "    Orientationd,\n",
        "    ScaleIntensityRanged,\n",
        "    CropForegroundd,\n",
        ")\n",
        "from monai.data import DataLoader, Dataset, CacheDataset\n",
        "from monai.utils import set_determinism\n",
        "set_determinism(seed=0)\n",
        "import os\n",
        "import nibabel as nib\n",
        "import glob as glob"
      ]
    },
    {
      "cell_type": "code",
      "execution_count": null,
      "metadata": {
        "id": "w3JOt89vKf4O"
      },
      "outputs": [],
      "source": [
        "#dwi_path = os.path.join(isles_data_dir, 'rawdata', 'sub-strokecase{}'.format(\"%04d\" %example_case), 'ses-0001',\n",
        "  #                  'sub-strokecase{}_ses-0001_dwi.nii.gz'.format(\"%04d\" % example_case))"
      ]
    },
    {
      "cell_type": "code",
      "execution_count": null,
      "metadata": {
        "id": "bvsn8FywBFi9"
      },
      "outputs": [],
      "source": [
        "data_dir='/content/drive/MyDrive/ISLES2022/dataset-ISLES22^public^unzipped^version'\n",
        "#example_case=1\n",
        "#dwi_path = os.path.join(data_dir, 'rawdata', 'sub-strokecase{}'.format(\"%04d\" %example_case), 'ses-0001',\n",
        "                #    'sub-strokecase{}_ses-0001_dwi.nii.gz'.format(\"%04d\" % example_case))\n",
        "#print(dwi_path)\n",
        "path_train_volumes = sorted(glob.glob(os.path.join(data_dir, \"rawdata\",\"*\",\"*\",\"*_dwi.nii.gz\")))\n",
        "#path_train_volumes\n",
        "#path_train_segmentation = sorted(glob.glob(os.path.join(in_dir, \"derivatives\",'*',\"*.nii.gz\")))\n",
        "path_train_segmentation = sorted(glob.glob(os.path.join(data_dir, \"derivatives\",\"*\",\"*\",\"*.nii.gz\")))"
      ]
    },
    {
      "cell_type": "code",
      "execution_count": null,
      "metadata": {
        "colab": {
          "base_uri": "https://localhost:8080/",
          "height": 53
        },
        "id": "JaphoYRAKy71",
        "outputId": "056b7b32-6d92-47d4-8272-fa03bbc06527"
      },
      "outputs": [
        {
          "data": {
            "application/vnd.google.colaboratory.intrinsic+json": {
              "type": "string"
            },
            "text/plain": [
              "'/content/drive/MyDrive/ISLES2022/dataset-ISLES22^public^unzipped^version/rawdata/sub-strokecase0001/ses-0001/sub-strokecase0001_ses-0001_dwi.nii.gz'"
            ]
          },
          "execution_count": 33,
          "metadata": {},
          "output_type": "execute_result"
        }
      ],
      "source": [
        "#path_train_volumes[0]"
      ]
    },
    {
      "cell_type": "code",
      "execution_count": null,
      "metadata": {
        "colab": {
          "base_uri": "https://localhost:8080/"
        },
        "id": "KbgqWBnwBOOM",
        "outputId": "074fa1b9-43f8-474d-b498-37392ed28927"
      },
      "outputs": [
        {
          "name": "stdout",
          "output_type": "stream",
          "text": [
            "spacing:  (2.0, 2.0, 2.0)\n",
            "mean:  407.7459411621094  std:  161.9583282470703\n",
            "min:  68.42463356018067  max:  897.1434716796874\n"
          ]
        }
      ],
      "source": [
        "from monai.data import (\n",
        "    Dataset,\n",
        "    DatasetSummary,\n",
        "    load_decathlon_datalist,\n",
        "    load_decathlon_properties,\n",
        ")\n",
        "train_files=[{'image':image_name,'label':label_name} for image_name, label_name in zip(path_train_volumes, path_train_segmentation)]\n",
        "dataset = Dataset(data=train_files,transform=LoadImaged(keys=[\"image\", \"label\"]),)\n",
        "\n",
        "#LoadImaged(keys=[\"vol\", \"seg\"])\n",
        "#train_ds = Dataset(data=train_files)\n",
        "#data_loader = DataLoader(dataset=train_ds, batch_size=1, num_workers=0)\n",
        "\n",
        "#train_loader = DataLoader(train_ds, batch_size=1)\n",
        "calculator = DatasetSummary(dataset)\n",
        "target_spacing = calculator.get_target_spacing()\n",
        "print(\"spacing: \", target_spacing)\n",
        "#this function also prints the mean and std values (used for normalization), \n",
        "calculator.calculate_statistics()\n",
        "print(\"mean: \", calculator.data_mean, \" std: \", calculator.data_std)\n",
        "#the min (0.5 percentile) and max(99.5 percentile) values (used for clip).\n",
        "calculator.calculate_percentiles(sampling_flag=True, interval=10, min_percentile=0.5, max_percentile=99.5)\n",
        "print(\"min: \",calculator.data_min_percentile,\" max: \",calculator.data_max_percentile,)\n"
      ]
    },
    {
      "cell_type": "code",
      "execution_count": null,
      "metadata": {
        "id": "inr6KUYIBg2N"
      },
      "outputs": [],
      "source": [
        "#spacing:  (2.0, 2.0, 2.0)\n",
        "#mean:  407.7459411621094  std:  161.9583282470703\n",
        "#min:  68.42463356018067  max:  897.1434716796874"
      ]
    },
    {
      "cell_type": "code",
      "execution_count": null,
      "metadata": {
        "id": "8EW_eUUTBg48"
      },
      "outputs": [],
      "source": [
        "data_dir='/content/drive/MyDrive/ISLES2022/dataset-ISLES22^public^unzipped^version'\n",
        "#example_case=1\n",
        "#dwi_path = os.path.join(data_dir, 'rawdata', 'sub-strokecase{}'.format(\"%04d\" %example_case), 'ses-0001',\n",
        "                #    'sub-strokecase{}_ses-0001_dwi.nii.gz'.format(\"%04d\" % example_case))\n",
        "#print(dwi_path)\n",
        "path_train_volumes = sorted(glob.glob(os.path.join(data_dir, \"rawdata\",\"*\",\"*\",\"*_adc.nii.gz\")))\n",
        "#path_train_volumes\n",
        "#path_train_segmentation = sorted(glob.glob(os.path.join(in_dir, \"derivatives\",'*',\"*.nii.gz\")))\n",
        "path_train_segmentation = sorted(glob.glob(os.path.join(data_dir, \"derivatives\",\"*\",\"*\",\"*.nii.gz\")))"
      ]
    },
    {
      "cell_type": "code",
      "source": [
        "path_train_volumes[0]"
      ],
      "metadata": {
        "colab": {
          "base_uri": "https://localhost:8080/",
          "height": 53
        },
        "id": "ruynMPN8EKb2",
        "outputId": "85fdf8d6-29eb-4de1-d38d-2d2e2206bc11"
      },
      "execution_count": null,
      "outputs": [
        {
          "output_type": "execute_result",
          "data": {
            "text/plain": [
              "'/content/drive/MyDrive/ISLES2022/dataset-ISLES22^public^unzipped^version/rawdata/sub-strokecase0001/ses-0001/sub-strokecase0001_ses-0001_adc.nii.gz'"
            ],
            "application/vnd.google.colaboratory.intrinsic+json": {
              "type": "string"
            }
          },
          "metadata": {},
          "execution_count": 10
        }
      ]
    },
    {
      "cell_type": "code",
      "source": [
        "from monai.data import (\n",
        "    Dataset,\n",
        "    DatasetSummary,\n",
        "    load_decathlon_datalist,\n",
        "    load_decathlon_properties,\n",
        ")\n",
        "train_files=[{'image':image_name,'label':label_name} for image_name, label_name in zip(path_train_volumes, path_train_segmentation)]\n",
        "dataset = Dataset(data=train_files,transform=LoadImaged(keys=[\"image\", \"label\"]),)\n",
        "\n",
        "#LoadImaged(keys=[\"vol\", \"seg\"])\n",
        "#train_ds = Dataset(data=train_files)\n",
        "#data_loader = DataLoader(dataset=train_ds, batch_size=1, num_workers=0)\n",
        "\n",
        "#train_loader = DataLoader(train_ds, batch_size=1)\n",
        "calculator = DatasetSummary(dataset)\n",
        "target_spacing = calculator.get_target_spacing()\n",
        "print(\"spacing: \", target_spacing)\n",
        "#this function also prints the mean and std values (used for normalization), \n",
        "calculator.calculate_statistics()\n",
        "print(\"mean: \", calculator.data_mean, \" std: \", calculator.data_std)\n",
        "#the min (0.5 percentile) and max(99.5 percentile) values (used for clip).\n",
        "calculator.calculate_percentiles(sampling_flag=True, interval=10, min_percentile=0.5, max_percentile=99.5)\n",
        "print(\"min: \",calculator.data_min_percentile,\" max: \",calculator.data_max_percentile,)"
      ],
      "metadata": {
        "colab": {
          "base_uri": "https://localhost:8080/"
        },
        "id": "u7MFsJg8DtVo",
        "outputId": "d3528729-2876-4b47-c497-2a640bc38893"
      },
      "execution_count": null,
      "outputs": [
        {
          "output_type": "stream",
          "name": "stdout",
          "text": [
            "spacing:  (2.0, 2.0, 2.0)\n",
            "mean:  228.48202514648438  std:  391.69097900390625\n",
            "min:  0.0002942764526233077  max:  1700.597452392575\n"
          ]
        }
      ]
    },
    {
      "cell_type": "code",
      "source": [
        "#spacing:  (2.0, 2.0, 2.0)\n",
        "#mean:  228.48202514648438  std:  391.69097900390625\n",
        "#min:  0.0002942764526233077  max:  1700.597452392575"
      ],
      "metadata": {
        "id": "2aRBn85oDtZ-"
      },
      "execution_count": null,
      "outputs": []
    },
    {
      "cell_type": "code",
      "source": [
        "data_dir='/content/drive/MyDrive/ISLES2022/dataset-ISLES22^public^unzipped^version'\n",
        "#example_case=1\n",
        "#dwi_path = os.path.join(data_dir, 'rawdata', 'sub-strokecase{}'.format(\"%04d\" %example_case), 'ses-0001',\n",
        "                #    'sub-strokecase{}_ses-0001_dwi.nii.gz'.format(\"%04d\" % example_case))\n",
        "#print(dwi_path)\n",
        "path_train_volumes = sorted(glob.glob(os.path.join(data_dir, \"rawdata\",\"*\",\"*\",\"*_dwi.nii.gz\")))\n",
        "#path_train_volumes\n",
        "#path_train_segmentation = sorted(glob.glob(os.path.join(in_dir, \"derivatives\",'*',\"*.nii.gz\")))\n",
        "path_train_segmentation = sorted(glob.glob(os.path.join(data_dir, \"derivatives\",\"*\",\"*\",\"*.nii.gz\")))"
      ],
      "metadata": {
        "id": "4vSsLMTZFcJ9"
      },
      "execution_count": null,
      "outputs": []
    },
    {
      "cell_type": "code",
      "source": [
        ""
      ],
      "metadata": {
        "id": "va1oYrBwK8lC"
      },
      "execution_count": null,
      "outputs": []
    },
    {
      "cell_type": "code",
      "source": [
        ""
      ],
      "metadata": {
        "id": "NOLc0EFnFevU"
      },
      "execution_count": null,
      "outputs": []
    },
    {
      "cell_type": "code",
      "source": [
        "data_dir='/content/drive/MyDrive/ISLES2022/dataset-ISLES22^public^unzipped^version'\n",
        "#example_case=1\n",
        "#dwi_path = os.path.join(data_dir, 'rawdata', 'sub-strokecase{}'.format(\"%04d\" %example_case), 'ses-0001',\n",
        "                #    'sub-strokecase{}_ses-0001_dwi.nii.gz'.format(\"%04d\" % example_case))\n",
        "#print(dwi_path)\n",
        "path_train_volumes = sorted(glob.glob(os.path.join(data_dir, \"rawdata\",\"*\",\"*\",\"*_dwi.nii.gz\")))\n",
        "#path_train_volumes\n",
        "#path_train_segmentation = sorted(glob.glob(os.path.join(in_dir, \"derivatives\",'*',\"*.nii.gz\")))\n",
        "path_train_segmentation = sorted(glob.glob(os.path.join(data_dir, \"derivatives\",\"*\",\"*\",\"*.nii.gz\")))"
      ],
      "metadata": {
        "id": "E_BBmrKLFexs"
      },
      "execution_count": null,
      "outputs": []
    },
    {
      "cell_type": "code",
      "source": [
        "#path_train_volumes[0][72:]\n",
        "pathimg=[]\n",
        "for i in range(0,len(path_train_volumes)):\n",
        "  path=path_train_volumes[i][72:]\n",
        "  pathimg.append(path)"
      ],
      "metadata": {
        "id": "uWVh7c7KKYiR"
      },
      "execution_count": null,
      "outputs": []
    },
    {
      "cell_type": "code",
      "source": [
        "#path_train_volumes\n",
        "import os \n",
        "#root='C:\\\\Users\\\\Administrateur\\\\Desktop\\\\micca2021\\\\MICCAI2021\\\\FetaEndo_challenege\\\\FetReg2021_Task1_Segmentation'\n",
        "#lstdir=os.listdir(root)\n",
        "\n",
        "import random\n",
        "#random.seed(0)\n",
        "def Trian_val(data_list,test_size=0.15):\n",
        "    n=len(data_list)\n",
        "    m=int(n*test_size)\n",
        "    test_item=random.sample(data_list,m)\n",
        "    train_item=list(set(data_list)-set(test_item))\n",
        "    return train_item,test_item\n",
        "tr_list,test_list=Trian_val(pathimg,test_size=0.20)\n",
        "import pandas as pd\n",
        "df_test= pd.DataFrame(test_list,columns=['PatientID'])\n",
        "df_train= pd.DataFrame(tr_list,columns=['PatientID'])\n",
        "# df.to_csv(\"testing_list1.csv\",index=False)\n",
        "# df1e=df11.drop(['index'],axis=0)\n",
        "# df11.values()\n",
        "#df_test.to_csv('valid_fold0.csv', index=False) \n",
        "#df_train.to_csv('train_fold0.csv', index=False)  "
      ],
      "metadata": {
        "id": "MsNP34IALTkg"
      },
      "execution_count": null,
      "outputs": []
    },
    {
      "cell_type": "code",
      "source": [
        "cd /content/drive/MyDrive/ISLES2022"
      ],
      "metadata": {
        "colab": {
          "base_uri": "https://localhost:8080/"
        },
        "id": "RbMpf7NaLlBW",
        "outputId": "136b3986-d177-4ab4-ca30-d15bed6e3aaa"
      },
      "execution_count": null,
      "outputs": [
        {
          "output_type": "stream",
          "name": "stdout",
          "text": [
            "/content/drive/MyDrive/ISLES2022\n"
          ]
        }
      ]
    },
    {
      "cell_type": "code",
      "source": [
        "df_test.to_csv('valid_fold0.csv', index=False) \n",
        "df_train.to_csv('train_fold0.csv', index=False) "
      ],
      "metadata": {
        "id": "SncVLJmlLd8T"
      },
      "execution_count": null,
      "outputs": []
    },
    {
      "cell_type": "code",
      "source": [
        "import os\n",
        "import pandas as pd\n",
        "import pandas as pd\n",
        "train_file=pd.read_csv('/content/drive/MyDrive/ISLES2022/train_fold0.csv')\n",
        "in_dir='/content/drive/MyDrive/ISLES2022/dataset-ISLES22^public^unzipped^version'\n",
        "path_train_volumes=[]\n",
        "path_train_segmentation=[]\n",
        "for i in range(0,len(train_file)):\n",
        "  pathtrain=train_file['PatientID'][i]\n",
        "  path_train_volumes.append(os.path.join(in_dir+pathtrain))\n",
        "  #pathtrain.replace('image','label')\n",
        "  p1=pathtrain.replace('rawdata','derivatives')[:41]\n",
        "  p2=pathtrain.replace('rawdata','derivatives').split('/')[-1].split('_')[0]+'_ses-0001_msk.nii.gz'\n",
        "  paths=p1+p2\n",
        "  #print(paths)\n",
        "  path_train_segmentation.append(os.path.join(in_dir+paths))\n",
        "  #break\n"
      ],
      "metadata": {
        "id": "sQQdil30LrSo"
      },
      "execution_count": null,
      "outputs": []
    },
    {
      "cell_type": "code",
      "source": [
        "import os\n",
        "import pandas as pd\n",
        "import pandas as pd\n",
        "valid_file=pd.read_csv('/content/drive/MyDrive/ISLES2022/valid_fold0.csv')\n",
        "in_dir='/content/drive/MyDrive/ISLES2022/dataset-ISLES22^public^unzipped^version'\n",
        "path_valid_volumes=[]\n",
        "path_valid_segmentation=[]\n",
        "for i in range(0,len(valid_file)):\n",
        "  pathtrain=train_file['PatientID'][i]\n",
        "  path_valid_volumes.append(os.path.join(in_dir+pathtrain))\n",
        "  #pathtrain.replace('image','label')\n",
        "  p1=pathtrain.replace('rawdata','derivatives')[:41]\n",
        "  p2=pathtrain.replace('rawdata','derivatives').split('/')[-1].split('_')[0]+'_ses-0001_msk.nii.gz'\n",
        "  paths=p1+p2\n",
        "  #print(paths)\n",
        "  path_valid_segmentation.append(os.path.join(in_dir+paths))\n",
        "  #break"
      ],
      "metadata": {
        "id": "EvPMECxTQ2_r"
      },
      "execution_count": null,
      "outputs": []
    },
    {
      "cell_type": "code",
      "source": [
        " #path_train_segmentation[0]"
      ],
      "metadata": {
        "colab": {
          "base_uri": "https://localhost:8080/",
          "height": 53
        },
        "id": "nBml-JMMPs0U",
        "outputId": "040f5b95-0b89-482a-c738-27d06a66f673"
      },
      "execution_count": null,
      "outputs": [
        {
          "output_type": "execute_result",
          "data": {
            "text/plain": [
              "'/content/drive/MyDrive/ISLES2022/dataset-ISLES22^public^unzipped^version/derivatives/sub-strokecase0024/ses-0001/sub-strokecase0024_ses-0001_mask.nii.gz'"
            ],
            "application/vnd.google.colaboratory.intrinsic+json": {
              "type": "string"
            }
          },
          "metadata": {},
          "execution_count": 172
        }
      ]
    },
    {
      "cell_type": "code",
      "source": [
        "#pathtrain.replace('rawdata','derivatives')[:41]"
      ],
      "metadata": {
        "id": "oXLx6l7cOHgO"
      },
      "execution_count": null,
      "outputs": []
    },
    {
      "cell_type": "code",
      "source": [
        "#pathtrain.replace('rawdata','derivatives').split('/')[-1]"
      ],
      "metadata": {
        "id": "VUNUPeTXM38O"
      },
      "execution_count": null,
      "outputs": []
    },
    {
      "cell_type": "code",
      "source": [
        "#path2=pathtrain.replace('rawdata','derivatives').split('/')[-1].split('_')[0]+'_ses-0001_mask.nii.gz'"
      ],
      "metadata": {
        "id": "umBdrGc-MqkB"
      },
      "execution_count": null,
      "outputs": []
    },
    {
      "cell_type": "code",
      "source": [
        " #path_train_segmentation[0]"
      ],
      "metadata": {
        "id": "fgpAv8eAMHNX"
      },
      "execution_count": null,
      "outputs": []
    },
    {
      "cell_type": "code",
      "source": [
        "train_files = [{\"image\": image_name, 'label': label_name} for image_name, label_name in zip(path_train_volumes, path_train_segmentation)]"
      ],
      "metadata": {
        "id": "quNbm7JJNkI_"
      },
      "execution_count": null,
      "outputs": []
    },
    {
      "cell_type": "code",
      "source": [
        "valid_files = [{\"image\": image_name, 'label': label_name} for image_name, label_name in zip(path_valid_volumes, path_valid_segmentation)]"
      ],
      "metadata": {
        "id": "HySbWw_JRExC"
      },
      "execution_count": null,
      "outputs": []
    },
    {
      "cell_type": "code",
      "source": [
        "#spacing:  (2.0, 2.0, 2.0)\n",
        "#mean:  407.7459411621094  std:  161.9583282470703\n",
        "#min:  68.42463356018067  max:  897.1434716796874\n",
        "\n",
        "import numpy as np\n",
        "from monai.transforms import (\n",
        "    Compose,\n",
        "    LoadImaged,\n",
        "    AddChanneld,\n",
        "    CropForegroundd,\n",
        "    Spacingd,\n",
        "    Orientationd,\n",
        "    SpatialPadd,\n",
        "    NormalizeIntensityd,\n",
        "    RandCropByPosNegLabeld,\n",
        "    RandRotated,\n",
        "    RandZoomd,\n",
        "    CastToTyped,\n",
        "    RandGaussianNoised,\n",
        "    RandGaussianSmoothd,\n",
        "    RandAdjustContrastd,\n",
        "    RandFlipd,\n",
        "    ToTensord,\n",
        "    ScaleIntensityRanged,\n",
        "    Resized,RandShiftIntensityd,\n",
        ")\n",
        "from monai.utils import first\n",
        "import numpy as np\n",
        "import nibabel as nib\n",
        "from monai.transforms import(\n",
        "    Compose,\n",
        "    AddChanneld,\n",
        "    LoadImaged,\n",
        "    Resized,\n",
        "    ToTensord,\n",
        "    Spacingd,\n",
        "    Orientationd,\n",
        "    ScaleIntensityRanged,\n",
        "    CropForegroundd,\n",
        ")\n",
        "from monai.data import DataLoader, Dataset, CacheDataset\n",
        "from monai.utils import set_determinism\n",
        "set_determinism(seed=0)\n",
        "import os\n",
        "import nibabel as nib\n",
        "import glob\n",
        "#image_keys: [\"image\"]\n",
        "#all_keys: [\"image\", \"label\"]\n",
        "\n",
        "generat_transforms = Compose(\n",
        "    [\n",
        "        LoadImaged(keys=[\"image\", \"label\"]),\n",
        "        #AddChanneld(keys=[\"image\", \"label\"]),\n",
        "        AddChanneld(keys=[\"image\",\"label\"]),\n",
        "        Spacingd(keys=[\"image\", \"label\"], pixdim=(2.0, 2.0, 2.0), mode=(\"bilinear\", \"nearest\")),\n",
        "        #Spacingd(keys=[\"image\", \"label\"],pixdim=(0.68825, 0.68825, 2.0),mode=(\"bilinear\",) * len(['image']) + \n",
        "        #         (\"nearest\",),),\n",
        "        #Orientationd(keys=[\"image\", \"label\"], axcodes=\"RAS\"),\n",
        "        CropForegroundd(keys=['image','label'], source_key='image'),\n",
        "        SpatialPadd(keys=[\"image\", \"label\"], spatial_size=[96,96,96]),\n",
        "        #Resized(keys=[\"image\", \"label\"], spatial_size=[112,112,32]),\n",
        "        ScaleIntensityRanged(keys=[\"image\"], a_min=68.42, a_max=897.0,b_min=0.0, b_max=1.0, clip=True,),\n",
        "        RandCropByPosNegLabeld(  # crop with center in label>0 with proba pos / (neg + pos)\n",
        "            keys=[\"image\", \"label\"],\n",
        "            label_key=\"label\",\n",
        "            spatial_size=(96,96,96),\n",
        "            pos=1,\n",
        "            neg=0,  # never center in background voxels\n",
        "            num_samples=4,\n",
        "            image_key=None,  # for no restriction with image thresholding\n",
        "            image_threshold=0,\n",
        "        ), \n",
        "        RandGaussianNoised(keys=[\"image\"], mean=0., std=0.1, prob=0.2),\n",
        "        RandGaussianSmoothd(\n",
        "            keys=[\"image\"],\n",
        "            sigma_x=(0.5, 1.15),\n",
        "            sigma_y=(0.5, 1.15),\n",
        "            sigma_z=(0.5, 1.15),\n",
        "            prob=0.2,\n",
        "          ),\n",
        "          RandShiftIntensityd(\n",
        "            keys=[\"image\"],\n",
        "            offsets=0.10,\n",
        "            prob=0.50,\n",
        "            ),\n",
        "        RandAdjustContrastd(  # same as Gamma in nnU-Net\n",
        "            keys=[\"image\"],\n",
        "            gamma=(0.7, 1.5),\n",
        "            prob=0.3,\n",
        "          ),\n",
        "        RandZoomd(\n",
        "            keys=[\"image\", \"label\"],\n",
        "            min_zoom=0.7,\n",
        "            max_zoom=1.5,\n",
        "            mode=(\"trilinear\",) * len([\"image\"]) + (\"nearest\",),\n",
        "            align_corners=(True,) * len([\"image\"]) + (None,),\n",
        "            prob=0.3,\n",
        "          ),\n",
        "          #RandRotated(\n",
        "            #keys=[\"image\", \"label\"],\n",
        "            #range_x=(-15. / 360 * 2. * np.pi, 15. / 360 * 2. * np.pi),\n",
        "            #range_y=(-15. / 360 * 2. * np.pi, 15. / 360 * 2. * np.pi),\n",
        "            #range_z=(-15. / 360 * 2. * np.pi, 15. / 360 * 2. * np.pi),\n",
        "            #mode=(\"bilinear\",) * len([\"image\"]) + (\"nearest\",),\n",
        "            #align_corners=(True,) * len([\"image\"]) + (None,),\n",
        "            #padding_mode=(\"border\", ) * len([\"image\", \"label\"]),\n",
        "            #prob=0.3,\n",
        "            #),\n",
        "        CastToTyped(keys=[\"image\", \"label\"], dtype=(np.float32,) * len([\"image\"]) + (np.uint8,)),\n",
        "        #RandFlipd(keys=[\"image\"], spatial_axis=[0, 1, 2], prob=0.5),\n",
        "        #RandAffined(keys=['image', 'label'], prob=0.5, translate_range=10), \n",
        "        #RandRotated(keys=['image', 'label'], prob=0.5, range_x=10.0),\n",
        "        #RandGaussianNoised(keys='image', prob=0.5),\n",
        "        #NormalizeIntensityd(keys=[\"image\"], nonzero=True, channel_wise=True),\n",
        "        ToTensord(keys=[\"image\", \"label\"]),\n",
        "    ]\n",
        ")\n",
        "\n",
        "val_transforms = Compose(\n",
        "    [\n",
        "        LoadImaged(keys=[\"image\", \"label\"]),\n",
        "        #AddChanneld(keys=[\"image\", \"label\"]),\n",
        "        AddChanneld(keys=[\"label\"]),\n",
        "        #Resized(keys=[\"image\", \"label\"], spatial_size=[128,128,128]),\n",
        "        #Orientationd(keys=[\"image\", \"label\"], axcodes=\"RAS\"),\n",
        "        Spacingd(\n",
        "            keys=[\"image\", \"label\"],\n",
        "            pixdim=(1.0, 1.0, 1.0),\n",
        "            mode=(\"bilinear\", \"nearest\"),\n",
        "        ),\n",
        "        #Resized(keys=[\"image\", \"label\"], spatial_size=[128,128,128]),\n",
        "        ScaleIntensityRanged(\n",
        "            keys=[\"image\"], a_min=68.42, a_max=897.0, b_min=0.0, b_max=1.0, clip=True\n",
        "        ),\n",
        "        CropForegroundd(keys=[\"image\", \"label\"], source_key=\"image\"),\n",
        "        ToTensord(keys=[\"image\", \"label\"]),\n",
        "    ]\n",
        ")\n",
        "my_transform_org=Compose([LoadImaged(keys=[\"image\", \"label\"]),AddChanneld(keys=[\"image\", \"label\"]),ToTensord(keys=[\"image\", \"label\"])])\n",
        "generat_ds = Dataset(data=train_files, transform=generat_transforms)\n",
        "generat_loader = DataLoader(generat_ds, batch_size=1)\n",
        "generat_patient = first(generat_loader)\n",
        "\n",
        "original_ds = Dataset(data=train_files, transform=my_transform_org)\n",
        "original_loader = DataLoader(original_ds, batch_size=1)\n",
        "original_patient = first(original_loader)"
      ],
      "metadata": {
        "id": "1QDMu6HiEBiW"
      },
      "execution_count": null,
      "outputs": []
    },
    {
      "cell_type": "code",
      "source": [
        "def resample_img(itk_image, out_spacing=[2.0, 2.0, 2.0], is_label=False):\n",
        "    \n",
        "    # Resample images to 2mm spacing with SimpleITK\n",
        "    original_spacing = itk_image.GetSpacing()\n",
        "    original_size = itk_image.GetSize()\n",
        "\n",
        "    out_size = [\n",
        "        int(np.round(original_size[0] * (original_spacing[0] / out_spacing[0]))),\n",
        "        int(np.round(original_size[1] * (original_spacing[1] / out_spacing[1]))),\n",
        "        int(np.round(original_size[2] * (original_spacing[2] / out_spacing[2])))]\n",
        "\n",
        "    resample = sitk.ResampleImageFilter()\n",
        "    resample.SetOutputSpacing(out_spacing)\n",
        "    resample.SetSize(out_size)\n",
        "    resample.SetOutputDirection(itk_image.GetDirection())\n",
        "    resample.SetOutputOrigin(itk_image.GetOrigin())\n",
        "    resample.SetTransform(sitk.Transform())\n",
        "    resample.SetDefaultPixelValue(itk_image.GetPixelIDValue())\n",
        "\n",
        "    if is_label:\n",
        "        resample.SetInterpolator(sitk.sitkNearestNeighbor)\n",
        "    else:\n",
        "        resample.SetInterpolator(sitk.sitkBSpline)\n",
        "\n",
        "    return resample.Execute(itk_image)\n",
        "\n",
        "# Assume to have some sitk image (itk_image) and label (itk_label)\n",
        "resampled_sitk_img = resample_img(image, out_spacing=[2.0, 2.0, 2.0], is_label=False)\n",
        "resampled_sitk_lbl = resample_img(label, out_spacing=[2.0, 2.0, 2.0], is_label=True)"
      ],
      "metadata": {
        "id": "gYCzOBgn_t8p"
      },
      "execution_count": null,
      "outputs": []
    },
    {
      "cell_type": "code",
      "source": [
        "import matplotlib.pyplot as plt\n",
        "number_slice = 55\n",
        "plt.figure(\"display\", (12, 6))\n",
        "plt.subplot(1, 2, 1)\n",
        "plt.title(f\"Original patient slice {number_slice}\")\n",
        "plt.imshow(original_patient[\"image\"][0, 0, :, :, number_slice], cmap=\"gray\")\n",
        "plt.subplot(1, 2, 2)\n",
        "plt.title(f\"Generated patient slice {number_slice}\")\n",
        "plt.imshow(generat_patient[\"image\"][0, 0, :, :, number_slice], cmap=\"gray\")"
      ],
      "metadata": {
        "colab": {
          "base_uri": "https://localhost:8080/",
          "height": 386
        },
        "id": "75xLB0peEBm9",
        "outputId": "2766fddb-8d66-4eb6-d6dc-5a2371119397"
      },
      "execution_count": null,
      "outputs": [
        {
          "output_type": "execute_result",
          "data": {
            "text/plain": [
              "<matplotlib.image.AxesImage at 0x7f2c662213d0>"
            ]
          },
          "metadata": {},
          "execution_count": 182
        },
        {
          "output_type": "display_data",
          "data": {
            "text/plain": [
              "<Figure size 864x432 with 2 Axes>"
            ],
            "image/png": "[encoded data removed]"
          },
          "metadata": {
            "needs_background": "light"
          }
        }
      ]
    },
    {
      "cell_type": "code",
      "source": [
        "import matplotlib.pyplot as plt\n",
        "number_slice = 35\n",
        "plt.figure(\"display\", (12, 6))\n",
        "plt.subplot(1, 2, 1)\n",
        "plt.title(f\"Original patient slice {number_slice}\")\n",
        "plt.imshow(original_patient[\"image\"][0, 0, :, :, number_slice], cmap=\"gray\")\n",
        "plt.subplot(1, 2, 2)\n",
        "plt.title(f\"Original patient label {number_slice}\")\n",
        "plt.imshow(original_patient[\"label\"][0, 0, :, :, number_slice], cmap=\"gray\")\n",
        "print(original_patient[\"image\"].shape)"
      ],
      "metadata": {
        "colab": {
          "base_uri": "https://localhost:8080/",
          "height": 386
        },
        "id": "h3fmlGK2F_i1",
        "outputId": "795d1039-f86c-468e-f027-52922582770f"
      },
      "execution_count": null,
      "outputs": [
        {
          "output_type": "stream",
          "name": "stdout",
          "text": [
            "torch.Size([1, 1, 112, 112, 73])\n"
          ]
        },
        {
          "output_type": "display_data",
          "data": {
            "text/plain": [
              "<Figure size 864x432 with 2 Axes>"
            ],
            "image/png": "[encoded data removed]"
          },
          "metadata": {
            "needs_background": "light"
          }
        }
      ]
    },
    {
      "cell_type": "code",
      "source": [
        "import matplotlib.pyplot as plt\n",
        "number_slice = 47\n",
        "plt.figure(\"display\", (12, 6))\n",
        "plt.subplot(1, 2, 1)\n",
        "plt.title(f\"generate patient slice {number_slice}\")\n",
        "plt.imshow(generat_patient[\"image\"][1, 0, :, :, number_slice], cmap=\"gray\")\n",
        "plt.subplot(1, 2, 2)\n",
        "plt.title(f\"Generated patient slice {number_slice}\")\n",
        "plt.imshow(generat_patient[\"label\"][1, 0, :, :, number_slice], cmap=\"gray\")\n"
      ],
      "metadata": {
        "colab": {
          "base_uri": "https://localhost:8080/",
          "height": 386
        },
        "id": "MvLQBVluGE1U",
        "outputId": "655468c7-4132-4b53-cd47-949662210b81"
      },
      "execution_count": null,
      "outputs": [
        {
          "output_type": "execute_result",
          "data": {
            "text/plain": [
              "<matplotlib.image.AxesImage at 0x7f2c65ff4390>"
            ]
          },
          "metadata": {},
          "execution_count": 185
        },
        {
          "output_type": "display_data",
          "data": {
            "text/plain": [
              "<Figure size 864x432 with 2 Axes>"
            ],
            "image/png": "[encoded data removed]"
          },
          "metadata": {
            "needs_background": "light"
          }
        }
      ]
    },
    {
      "cell_type": "code",
      "source": [
        ""
      ],
      "metadata": {
        "id": "5WNDoez9DtdO"
      },
      "execution_count": null,
      "outputs": []
    },
    {
      "cell_type": "code",
      "source": [
        ""
      ],
      "metadata": {
        "id": "5ZlGlOb-El5m"
      },
      "execution_count": null,
      "outputs": []
    },
    {
      "cell_type": "code",
      "source": [
        ""
      ],
      "metadata": {
        "id": "vHa93WDVEl8O"
      },
      "execution_count": null,
      "outputs": []
    },
    {
      "cell_type": "code",
      "source": [
        ""
      ],
      "metadata": {
        "id": "5Qtadw02EmAd"
      },
      "execution_count": null,
      "outputs": []
    },
    {
      "cell_type": "code",
      "execution_count": null,
      "metadata": {
        "colab": {
          "base_uri": "https://localhost:8080/"
        },
        "id": "E4Ndsrx2Bg8M",
        "outputId": "0113c255-81f3-44e5-81d3-be7f45e8ec6a"
      },
      "outputs": [
        {
          "name": "stdout",
          "output_type": "stream",
          "text": [
            "Looking in indexes: https://pypi.org/simple, https://us-python.pkg.dev/colab-wheels/public/simple/\n",
            "Collecting ignite\n",
            "  Downloading ignite-1.1.0-py2.py3-none-any.whl (4.5 kB)\n",
            "Requirement already satisfied: wrapt in /usr/local/lib/python3.7/dist-packages (from ignite) (1.14.1)\n",
            "Requirement already satisfied: requests in /usr/local/lib/python3.7/dist-packages (from ignite) (2.23.0)\n",
            "Requirement already satisfied: chardet<4,>=3.0.2 in /usr/local/lib/python3.7/dist-packages (from requests->ignite) (3.0.4)\n",
            "Requirement already satisfied: urllib3!=1.25.0,!=1.25.1,<1.26,>=1.21.1 in /usr/local/lib/python3.7/dist-packages (from requests->ignite) (1.24.3)\n",
            "Requirement already satisfied: idna<3,>=2.5 in /usr/local/lib/python3.7/dist-packages (from requests->ignite) (2.10)\n",
            "Requirement already satisfied: certifi>=2017.4.17 in /usr/local/lib/python3.7/dist-packages (from requests->ignite) (2022.5.18.1)\n",
            "Installing collected packages: ignite\n",
            "Successfully installed ignite-1.1.0\n"
          ]
        }
      ],
      "source": [
        "!pip install ignite"
      ]
    },
    {
      "cell_type": "code",
      "execution_count": null,
      "metadata": {
        "id": "qdYckvK2AhXu"
      },
      "outputs": [],
      "source": [
        "import os\n",
        "import re\n",
        "import argparse\n",
        "import numpy as np\n",
        "import random\n",
        "import monai\n",
        "import time\n",
        "# from networks import build_net\n",
        "import logging\n",
        "import os\n",
        "import sys\n",
        "import tempfile\n",
        "from glob import glob\n",
        "#from ignite.metrics import Accuracy\n",
        "import nibabel as nib\n",
        "import torch\n",
        "import argparse\n",
        "from monai.data import CacheDataset, DataLoader, Dataset\n",
        "import SimpleITK as sitk\n",
        "from monai.inferers import sliding_window_inference\n",
        "from monai.metrics import DiceMetric\n",
        "from monai.data import NiftiSaver, create_test_image_3d, list_data_collate\n",
        "from collections import OrderedDict\n",
        "#from monai.handlers import (MeanDice, StatsHandler, ValidationHandler, CheckpointSaver, LrScheduleHandler, CheckpointLoader,\n",
        "                        # SegmentationSaver, TensorBoardImageHandler, TensorBoardStatsHandler)\n",
        "from monai.inferers import SimpleInferer, SlidingWindowInferer\n",
        "from monai.utils import set_determinism\n",
        "import re\n",
        "from monai.data import create_test_image_3d, list_data_collate\n",
        "from monai.inferers import sliding_window_inference\n",
        "from monai.transforms import (Activationsd,MeanEnsembled, GaussianSmoothd, CropForegroundd, ThresholdIntensityd, Activations,AsDiscrete, LoadImaged, AsChannelFirstd, VoteEnsembled, AsDiscreted, Compose, AddChanneld, Transpose, ConcatItemsd,\n",
        "                              ScaleIntensityd, Resized,ToTensord, RandSpatialCropd, Rand3DElasticd, RandAffined, RandGaussianSmoothd, SpatialPadd,\n",
        "    Spacingd, Orientationd, RandShiftIntensityd, BorderPadd, RandGaussianNoised, RandAdjustContrastd,NormalizeIntensityd,RandFlipd, KeepLargestConnectedComponent)\n",
        "\n",
        "#from monai.engines import (\n",
        "   # EnsembleEvaluator,\n",
        "   # SupervisedEvaluator,\n",
        "   # SupervisedTrainer\n",
        "#)\n",
        "\n",
        "from skimage.measure import label\n",
        "def getLargestCC(segmentation):\n",
        "    labels = label(segmentation)\n",
        "    unique, counts = np.unique(labels, return_counts=True)\n",
        "    list_seg=list(zip(unique, counts))[1:] # the 0 label is by default background so take the rest\n",
        "    largest=max(list_seg, key=lambda x:x[1])[0]\n",
        "    labels_max=(labels == largest).astype(int)\n",
        "    return labels_max\n",
        "\n",
        "\n",
        "def Padding(image, reference):\n",
        "\n",
        "\n",
        "    size_new = reference.GetSize()\n",
        "\n",
        "    output_size = tuple(size_new)\n",
        "\n",
        "    resampler = sitk.ResampleImageFilter()\n",
        "    resampler.SetOutputSpacing(reference.GetSpacing())\n",
        "    resampler.SetSize(output_size)\n",
        "\n",
        "    # resample on label\n",
        "    resampler.SetInterpolator(sitk.sitkNearestNeighbor)\n",
        "    resampler.SetOutputOrigin(reference.GetOrigin())\n",
        "    resampler.SetOutputDirection(reference.GetDirection())\n",
        "\n",
        "    image = resampler.Execute(image)\n",
        "\n",
        "    return image\n",
        "\n",
        "\n",
        "def resize(img, new_size, interpolator):\n",
        "    # img = sitk.ReadImage(img)\n",
        "    dimension = img.GetDimension()\n",
        "\n",
        "    # Physical image size corresponds to the largest physical size in the training set, or any other arbitrary size.\n",
        "    reference_physical_size = np.zeros(dimension)\n",
        "\n",
        "    reference_physical_size[:] = [(sz - 1) * spc if sz * spc > mx else mx for sz, spc, mx in\n",
        "                                  zip(img.GetSize(), img.GetSpacing(), reference_physical_size)]\n",
        "\n",
        "    # Create the reference image with a zero origin, identity direction cosine matrix and dimension\n",
        "    reference_origin = np.zeros(dimension)\n",
        "    reference_direction = np.identity(dimension).flatten()\n",
        "    reference_size = new_size\n",
        "    reference_spacing = [phys_sz / (sz - 1) for sz, phys_sz in zip(reference_size, reference_physical_size)]\n",
        "\n",
        "    reference_image = sitk.Image(reference_size, img.GetPixelIDValue())\n",
        "    reference_image.SetOrigin(reference_origin)\n",
        "    reference_image.SetSpacing(reference_spacing)\n",
        "    reference_image.SetDirection(reference_direction)\n",
        "\n",
        "    # Always use the TransformContinuousIndexToPhysicalPoint to compute an indexed point's physical coordinates as\n",
        "    # this takes into account size, spacing and direction cosines. For the vast majority of images the direction\n",
        "    # cosines are the identity matrix, but when this isn't the case simply multiplying the central index by the\n",
        "    # spacing will not yield the correct coordinates resulting in a long debugging session.\n",
        "    reference_center = np.array(\n",
        "        reference_image.TransformContinuousIndexToPhysicalPoint(np.array(reference_image.GetSize()) / 2.0))\n",
        "\n",
        "    # Transform which maps from the reference_image to the current img with the translation mapping the image\n",
        "    # origins to each other.\n",
        "    transform = sitk.AffineTransform(dimension)\n",
        "    transform.SetMatrix(img.GetDirection())\n",
        "    transform.SetTranslation(np.array(img.GetOrigin()) - reference_origin)\n",
        "    # Modify the transformation to align the centers of the original and reference image instead of their origins.\n",
        "    centering_transform = sitk.TranslationTransform(dimension)\n",
        "    img_center = np.array(img.TransformContinuousIndexToPhysicalPoint(np.array(img.GetSize()) / 2.0))\n",
        "    centering_transform.SetOffset(np.array(transform.GetInverse().TransformPoint(img_center) - reference_center))\n",
        "\n",
        "    # centered_transform = sitk.Transform(transform)\n",
        "    # centered_transform.AddTransform(centering_transform)\n",
        "\n",
        "    centered_transform = sitk.CompositeTransform([transform, centering_transform])\n",
        "\n",
        "    # Using the linear interpolator as these are intensity images, if there is a need to resample a ground truth\n",
        "    # segmentation then the segmentation image should be resampled using the NearestNeighbor interpolator so that\n",
        "    # no new labels are introduced.\n",
        "\n",
        "    return sitk.Resample(img, reference_image, centered_transform, interpolator, 0.0)\n",
        "\n",
        "\n",
        "def resample_sitk_image(sitk_image, spacing=None, interpolator=None, fill_value=0):\n",
        "    # https://github.com/SimpleITK/SlicerSimpleFilters/blob/master/SimpleFilters/SimpleFilters.py\n",
        "    _SITK_INTERPOLATOR_DICT = {\n",
        "        'nearest': sitk.sitkNearestNeighbor,\n",
        "        'linear': sitk.sitkLinear,\n",
        "        'gaussian': sitk.sitkGaussian,\n",
        "        'label_gaussian': sitk.sitkLabelGaussian,\n",
        "        'bspline': sitk.sitkBSpline,\n",
        "        'hamming_sinc': sitk.sitkHammingWindowedSinc,\n",
        "        'cosine_windowed_sinc': sitk.sitkCosineWindowedSinc,\n",
        "        'welch_windowed_sinc': sitk.sitkWelchWindowedSinc,\n",
        "        'lanczos_windowed_sinc': sitk.sitkLanczosWindowedSinc\n",
        "    }\n",
        "\n",
        "    if isinstance(sitk_image, str):\n",
        "        sitk_image = sitk.ReadImage(sitk_image)\n",
        "    num_dim = sitk_image.GetDimension()\n",
        "\n",
        "    if not interpolator:\n",
        "        interpolator = 'linear'\n",
        "        pixelid = sitk_image.GetPixelIDValue()\n",
        "\n",
        "        if pixelid not in [1, 2, 4]:\n",
        "            raise NotImplementedError(\n",
        "                'Set `interpolator` manually, '\n",
        "                'can only infer for 8-bit unsigned or 16, 32-bit signed integers')\n",
        "        if pixelid == 1:  # 8-bit unsigned int\n",
        "            interpolator = 'nearest'\n",
        "\n",
        "    orig_pixelid = sitk_image.GetPixelIDValue()\n",
        "    orig_origin = sitk_image.GetOrigin()\n",
        "    orig_direction = sitk_image.GetDirection()\n",
        "    orig_spacing = np.array(sitk_image.GetSpacing())\n",
        "    orig_size = np.array(sitk_image.GetSize(), dtype=np.int)\n",
        "\n",
        "    if not spacing:\n",
        "        min_spacing = orig_spacing.min()\n",
        "        new_spacing = [min_spacing] * num_dim\n",
        "    else:\n",
        "        new_spacing = [float(s) for s in spacing]\n",
        "\n",
        "    assert interpolator in _SITK_INTERPOLATOR_DICT.keys(), \\\n",
        "        '`interpolator` should be one of {}'.format(_SITK_INTERPOLATOR_DICT.keys())\n",
        "\n",
        "    sitk_interpolator = _SITK_INTERPOLATOR_DICT[interpolator]\n",
        "\n",
        "    new_size = orig_size * (orig_spacing / new_spacing)\n",
        "    new_size = np.ceil(new_size).astype(np.int)  # Image dimensions are in integers\n",
        "    new_size = [int(s) for s in new_size]  # SimpleITK expects lists, not ndarrays\n",
        "\n",
        "    resample_filter = sitk.ResampleImageFilter()\n",
        "\n",
        "    resample_filter.SetOutputSpacing(new_spacing)\n",
        "    resample_filter.SetSize(new_size)\n",
        "    resample_filter.SetOutputDirection(orig_direction)\n",
        "    resample_filter.SetOutputOrigin(orig_origin)\n",
        "    resample_filter.SetTransform(sitk.Transform())\n",
        "    resample_filter.SetDefaultPixelValue(orig_pixelid)\n",
        "    resample_filter.SetInterpolator(sitk_interpolator)\n",
        "    resample_filter.SetDefaultPixelValue(fill_value)\n",
        "\n",
        "    resampled_sitk_image = resample_filter.Execute(sitk_image)\n",
        "\n",
        "    return resampled_sitk_image\n",
        "\n",
        "\n",
        "def numericalSort(value):\n",
        "    numbers = re.compile(r'(\\d+)')\n",
        "    parts = numbers.split(value)\n",
        "    parts[1::2] = map(int, parts[1::2])\n",
        "    return parts\n",
        "\n",
        "\n",
        "def lstFiles(Path):\n",
        "\n",
        "    images_list = []  # create an empty list, the raw image data files is stored here\n",
        "    for dirName, subdirList, fileList in os.walk(Path):\n",
        "        for filename in fileList:\n",
        "            if \".nii.gz\" in filename.lower():\n",
        "                images_list.append(os.path.join(dirName, filename))\n",
        "            elif \".nii\" in filename.lower():\n",
        "                images_list.append(os.path.join(dirName, filename))\n",
        "            elif \".mhd\" in filename.lower():\n",
        "                images_list.append(os.path.join(dirName, filename))\n",
        "\n",
        "    images_list = sorted(images_list, key=numericalSort)\n",
        "\n",
        "    return images_list\n",
        "\n",
        "\n",
        "def new_state_dict(file_name):\n",
        "    state_dict = torch.load(file_name)\n",
        "    new_state_dict = OrderedDict()\n",
        "    for k, v in state_dict.items():\n",
        "        if k[:6] == 'module':\n",
        "            name = k[7:]\n",
        "            new_state_dict[name] = v\n",
        "        else:\n",
        "            new_state_dict[k] = v\n",
        "    return new_state_dict\n",
        "\n",
        "\n",
        "def new_state_dict_cpu(file_name):\n",
        "    state_dict = torch.load(file_name, map_location='cpu')\n",
        "    new_state_dict_cpu = OrderedDict()\n",
        "    for k, v in state_dict.items():\n",
        "        if k[:6] == 'module':\n",
        "            name = k[7:]\n",
        "            new_state_dict_cpu[name] = v\n",
        "        else:\n",
        "            new_state_dict_cpu[k] = v\n",
        "    return new_state_dict_cpu\n",
        "\n",
        "\n",
        "def from_numpy_to_itk(image_np, image_itk):\n",
        "\n",
        "    # read image file\n",
        "    reader = sitk.ImageFileReader()\n",
        "    reader.SetFileName(image_itk)\n",
        "    image_itk = reader.Execute()\n",
        "\n",
        "    image_np = np.transpose(image_np, (2, 1, 0))\n",
        "    image = sitk.GetImageFromArray(image_np)\n",
        "    image.SetDirection(image_itk.GetDirection())\n",
        "    image.SetSpacing(image_itk.GetSpacing())\n",
        "    image.SetOrigin(image_itk.GetOrigin())\n",
        "    return image\n",
        "\n",
        "\n",
        "# function to keep track of the cropped area and coordinates\n",
        "def statistics_crop(image, resolution):\n",
        "\n",
        "    files = [{\"image\": image}]\n",
        "\n",
        "    reader = sitk.ImageFileReader()\n",
        "    reader.SetFileName(image)\n",
        "    image_itk = reader.Execute()\n",
        "    original_resolution = image_itk.GetSpacing()\n",
        "\n",
        "    # original size\n",
        "    transforms = Compose([\n",
        "        LoadImaged(keys=['image']),\n",
        "        AddChanneld(keys=['image']),\n",
        "        ToTensord(keys=['image'])])\n",
        "    data = monai.data.Dataset(data=files, transform=transforms)\n",
        "    loader = DataLoader(data, batch_size=1, num_workers=0, pin_memory=torch.cuda.is_available())\n",
        "    loader = monai.utils.misc.first(loader)\n",
        "    im, = (loader['image'][0])\n",
        "    vol = im.numpy()\n",
        "    original_shape = vol.shape\n",
        "\n",
        "    # cropped foreground size\n",
        "    transforms = Compose([\n",
        "        LoadImaged(keys=['image']),\n",
        "        AddChanneld(keys=['image']),\n",
        "        CropForegroundd(keys=['image'], source_key='image', start_coord_key='foreground_start_coord',\n",
        "                        end_coord_key='foreground_end_coord', ),  # crop CropForeground\n",
        "        ToTensord(keys=['image', 'foreground_start_coord', 'foreground_end_coord'])])\n",
        "\n",
        "    data = monai.data.Dataset(data=files, transform=transforms)\n",
        "    loader = DataLoader(data, batch_size=1, num_workers=0, pin_memory=torch.cuda.is_available())\n",
        "    loader = monai.utils.misc.first(loader)\n",
        "    im, coord1, coord2 = (loader['image'][0], loader['foreground_start_coord'][0], loader['foreground_end_coord'][0])\n",
        "    vol = im[0].numpy()\n",
        "    coord1 = coord1.numpy()\n",
        "    coord2 = coord2.numpy()\n",
        "    crop_shape = vol.shape\n",
        "\n",
        "    if resolution is not None:\n",
        "\n",
        "        transforms = Compose([\n",
        "            LoadImaged(keys=['image']),\n",
        "            AddChanneld(keys=['image']),\n",
        "            CropForegroundd(keys=['image'], source_key='image'),  # crop CropForeground\n",
        "            Spacingd(keys=['image'], pixdim=resolution, mode=('bilinear')),  # resolution\n",
        "            ToTensord(keys=['image'])])\n",
        "\n",
        "        data = monai.data.Dataset(data=files, transform=transforms)\n",
        "        loader = DataLoader(data, batch_size=1, num_workers=0, pin_memory=torch.cuda.is_available())\n",
        "        loader = monai.utils.misc.first(loader)\n",
        "        im, = (loader['image'][0])\n",
        "        vol = im.numpy()\n",
        "        resampled_size = vol.shape\n",
        "\n",
        "    else:\n",
        "\n",
        "        resampled_size = original_shape\n",
        "\n",
        "    return original_shape, crop_shape, coord1, coord2, resampled_size, original_resolution\n",
        "\n",
        "\n",
        "def build_net_CT(patch_size,resolution):\n",
        "\n",
        "    from monai.networks.layers import Norm\n",
        "\n",
        "    sizes, spacings = patch_size, resolution\n",
        "\n",
        "    strides, kernels = [], []\n",
        "\n",
        "    while True:\n",
        "        spacing_ratio = [sp / min(spacings) for sp in spacings]\n",
        "        stride = [2 if ratio <= 2 and size >= 8 else 1 for (ratio, size) in zip(spacing_ratio, sizes)]\n",
        "        kernel = [3 if ratio <= 2 else 1 for ratio in spacing_ratio]\n",
        "        if all(s == 1 for s in stride):\n",
        "            break\n",
        "        sizes = [i / j for i, j in zip(sizes, stride)]\n",
        "        spacings = [i * j for i, j in zip(spacings, stride)]\n",
        "        kernels.append(kernel)\n",
        "        strides.append(stride)\n",
        "    strides.insert(0, len(spacings) * [1])\n",
        "    kernels.append(len(spacings) * [3])\n",
        "\n",
        "    # # create Unet\n",
        "\n",
        "    nn_Unet = monai.networks.nets.DynUNet(\n",
        "        spatial_dims=3,\n",
        "        in_channels=1,\n",
        "        out_channels=1,\n",
        "        kernel_size=kernels,\n",
        "        strides=strides,\n",
        "        upsample_kernel_size=strides[1:],\n",
        "        res_block=True,\n",
        "    )\n",
        "\n",
        "    return nn_Unet\n",
        "\n",
        "\n",
        "def crop_window(prostate_contour):\n",
        "    # Cut data, restricted to the prostate contours + a pitch per direction per dimension.\n",
        "    \"\"\"\n",
        "    nrrd has the following format, assuming to watch the patient from the front:\n",
        "    (x, y, z)\n",
        "    x: left to right (ascending)\n",
        "    y: front to back (ascending)\n",
        "    z: bottom to top (ascending)\n",
        "    \"\"\"\n",
        "    pitch = 5\n",
        "    pattern = np.where(prostate_contour == 1)\n",
        "\n",
        "    minx = np.min(pattern[0]) - pitch\n",
        "    maxx = np.max(pattern[0]) + pitch\n",
        "    miny = np.min(pattern[1]) - pitch\n",
        "    maxy = np.max(pattern[1]) + pitch\n",
        "    minz = np.min(pattern[2]) - pitch\n",
        "    maxz = np.max(pattern[2]) + pitch\n",
        "\n",
        "    if (maxx - minx) % 2 != 0:\n",
        "        maxx += 1\n",
        "    if (maxy - miny) % 2 != 0:\n",
        "        maxy += 1\n",
        "    if (maxz - minz) % 2 != 0:\n",
        "        maxz += 1\n",
        "\n",
        "    \"\"\"\n",
        "    Choose all tensors to have size of 64x64x64\n",
        "    \"\"\"\n",
        "    limit = 32\n",
        "\n",
        "    while maxx - minx < limit:\n",
        "        maxx += 1\n",
        "        minx -= 1\n",
        "\n",
        "    while maxy - miny < limit:\n",
        "        maxy += 1\n",
        "        miny -= 1\n",
        "\n",
        "    while maxz - minz < limit:\n",
        "        maxz += 1\n",
        "        minz -= 1\n",
        "\n",
        "    return minx, maxx, miny, maxy, minz, maxz\n",
        "\n",
        "\n",
        "def uniform_img_dimensions(image, label, nearest):\n",
        "\n",
        "    image_array = sitk.GetArrayFromImage(image)\n",
        "    image_array = np.transpose(image_array, axes=(2, 1, 0))  # reshape array from itk z,y,x  to  x,y,z\n",
        "    image_shape = image_array.shape\n",
        "\n",
        "    if nearest is True:\n",
        "        label = resample_sitk_image(label, spacing=image.GetSpacing(), interpolator='nearest')\n",
        "        res = resize(label,image_shape,sitk.sitkNearestNeighbor)\n",
        "        res = (np.rint(sitk.GetArrayFromImage(res)))\n",
        "        res = sitk.GetImageFromArray(res.astype('uint8'))\n",
        "        # print(res.GetSize())\n",
        "\n",
        "    else:\n",
        "        label = resample_sitk_image(label, spacing=image.GetSpacing(), interpolator='linear')\n",
        "        res = resize(label, image_shape, sitk.sitkLinear)\n",
        "        res = (np.rint(sitk.GetArrayFromImage(res)))\n",
        "        res = sitk.GetImageFromArray(res.astype('float'))\n",
        "\n",
        "    res.SetDirection(image.GetDirection())\n",
        "    res.SetOrigin(image.GetOrigin())\n",
        "    res.SetSpacing(image.GetSpacing())\n",
        "\n",
        "    return image, res\n",
        "\n",
        "\n",
        "def uniform_img_dimensions_internal(image, label, nearest):\n",
        "\n",
        "    name_label = label\n",
        "\n",
        "    image = sitk.ReadImage(image)\n",
        "    label = sitk.ReadImage(label)\n",
        "    image_array = sitk.GetArrayFromImage(image)\n",
        "    image_array = np.transpose(image_array, axes=(2, 1, 0))  # reshape array from itk z,y,x  to  x,y,z\n",
        "    image_shape = image_array.shape\n",
        "\n",
        "    if nearest is True:\n",
        "        label = resample_sitk_image(label, spacing=image.GetSpacing(), interpolator='nearest')\n",
        "        res = resize(label,image_shape,sitk.sitkNearestNeighbor)\n",
        "        res = (np.rint(sitk.GetArrayFromImage(res)))\n",
        "        res = sitk.GetImageFromArray(res.astype('uint8'))\n",
        "        # print(res.GetSize())\n",
        "\n",
        "    else:\n",
        "        label = resample_sitk_image(label, spacing=image.GetSpacing(), interpolator='linear')\n",
        "        res = resize(label, image_shape, sitk.sitkLinear)\n",
        "        res = (np.rint(sitk.GetArrayFromImage(res)))\n",
        "        res = sitk.GetImageFromArray(res.astype('float'))\n",
        "\n",
        "    res.SetDirection(image.GetDirection())\n",
        "    res.SetOrigin(image.GetOrigin())\n",
        "    res.SetSpacing(image.GetSpacing())\n",
        "\n",
        "    sitk.WriteImage(res, name_label)\n"
      ]
    },
    {
      "cell_type": "code",
      "execution_count": null,
      "metadata": {
        "colab": {
          "base_uri": "https://localhost:8080/"
        },
        "id": "8OrYmOgvCCJs",
        "outputId": "2f7914eb-2bc3-4315-cea9-5a25e9d9586a"
      },
      "outputs": [
        {
          "name": "stderr",
          "output_type": "stream",
          "text": [
            "/usr/local/lib/python3.7/dist-packages/ipykernel_launcher.py:155: DeprecationWarning: `np.int` is a deprecated alias for the builtin `int`. To silence this warning, use `int` by itself. Doing this will not modify any behavior and is safe. When replacing `np.int`, you may wish to use e.g. `np.int64` or `np.int32` to specify the precision. If you wish to review your current use, check the release note link for additional information.\n",
            "Deprecated in NumPy 1.20; for more details and guidance: https://numpy.org/devdocs/release/1.20.0-notes.html#deprecations\n",
            "/usr/local/lib/python3.7/dist-packages/ipykernel_launcher.py:168: DeprecationWarning: `np.int` is a deprecated alias for the builtin `int`. To silence this warning, use `int` by itself. Doing this will not modify any behavior and is safe. When replacing `np.int`, you may wish to use e.g. `np.int64` or `np.int32` to specify the precision. If you wish to review your current use, check the release note link for additional information.\n",
            "Deprecated in NumPy 1.20; for more details and guidance: https://numpy.org/devdocs/release/1.20.0-notes.html#deprecations\n"
          ]
        }
      ],
      "source": [
        "a='/content/drive/MyDrive/ISLES2022/dataset-ISLES22^public^unzipped^version/derivatives/sub-strokecase0002/ses-0001/sub-strokecase0002_ses-0001_msk.nii.gz'\n",
        "b='/content/drive/MyDrive/ISLES2022/dataset-ISLES22^public^unzipped^version/rawdata/sub-strokecase0002/ses-0001/sub-strokecase0002_ses-0001_flair.nii.gz'\n",
        "label = sitk.ReadImage(a)\n",
        "image = sitk.ReadImage(b)\n",
        "\n",
        "image = resample_sitk_image(image, spacing=(2.0, 2.0, 2.0), interpolator='linear', fill_value=0)\n",
        "image, label = uniform_img_dimensions(image, label, nearest=True)"
      ]
    },
    {
      "cell_type": "code",
      "execution_count": null,
      "metadata": {
        "colab": {
          "base_uri": "https://localhost:8080/"
        },
        "id": "5ygeyRgbNdTb",
        "outputId": "6a41ca76-42e2-4a8e-a4ee-b433e0737242"
      },
      "outputs": [
        {
          "name": "stdout",
          "output_type": "stream",
          "text": [
            "(125, 125, 100)\n",
            "(125, 125, 100)\n"
          ]
        }
      ],
      "source": [
        "print(sitk.GetArrayFromImage(image).shape)\n",
        "print(sitk.GetArrayFromImage(label).shape)"
      ]
    },
    {
      "cell_type": "code",
      "execution_count": null,
      "metadata": {
        "colab": {
          "base_uri": "https://localhost:8080/"
        },
        "id": "LFtlqrxkOFEa",
        "outputId": "e91964d0-d9be-4a32-eec1-60534e7eb2bd"
      },
      "outputs": [
        {
          "name": "stdout",
          "output_type": "stream",
          "text": [
            "(100, 125, 125)\n",
            "(100, 125, 125)\n"
          ]
        }
      ],
      "source": [
        "imagenp=sitk.GetArrayFromImage(image).transpose(2,0,1)\n",
        "labelnp=sitk.GetArrayFromImage(label).transpose(2,0,1)\n",
        "print(imagenp.shape)\n",
        "print(labelnp.shape)"
      ]
    },
    {
      "cell_type": "code",
      "execution_count": null,
      "metadata": {
        "colab": {
          "base_uri": "https://localhost:8080/",
          "height": 386
        },
        "id": "t8oPmOk7OAuk",
        "outputId": "425a9234-3d9b-40a4-ab4d-5d0993f83035"
      },
      "outputs": [
        {
          "data": {
            "text/plain": [
              "<matplotlib.image.AxesImage at 0x7f0147ce2d90>"
            ]
          },
          "execution_count": 67,
          "metadata": {},
          "output_type": "execute_result"
        },
        {
          "data": {
            "image/png": "[encoded data removed]",
            "text/plain": [
              "<Figure size 864x432 with 2 Axes>"
            ]
          },
          "metadata": {},
          "output_type": "display_data"
        }
      ],
      "source": [
        "import matplotlib.pyplot as plt\n",
        "number_slice = 47\n",
        "plt.figure(\"display\", (12, 6))\n",
        "plt.subplot(1, 2, 1)\n",
        "plt.title(f\"Original patient slice {number_slice}\")\n",
        "plt.imshow(imagenp[number_slice,:, :], cmap=\"gray\")\n",
        "plt.subplot(1, 2, 2)\n",
        "plt.title(f\"Generated patient slice {number_slice}\")\n",
        "plt.imshow(labelnp[number_slice,:, :], cmap=\"gray\")"
      ]
    }
  ],
  "metadata": {
    "accelerator": "GPU",
    "colab": {
      "name": "ISLES2022_data_analysis.ipynb",
      "provenance": [],
      "collapsed_sections": []
    },
    "kernelspec": {
      "display_name": "Python 3",
      "name": "python3"
    },
    "language_info": {
      "name": "python"
    }
  },
  "nbformat": 4,
  "nbformat_minor": 0
}